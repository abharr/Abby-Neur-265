{
  "nbformat": 4,
  "nbformat_minor": 0,
  "metadata": {
    "colab": {
      "provenance": [],
      "include_colab_link": true
    },
    "kernelspec": {
      "name": "python3",
      "display_name": "Python 3"
    },
    "language_info": {
      "name": "python"
    }
  },
  "cells": [
    {
      "cell_type": "markdown",
      "metadata": {
        "id": "view-in-github",
        "colab_type": "text"
      },
      "source": [
        "<a href=\"https://colab.research.google.com/github/abharr/Abby-Neur-265/blob/main/coding_homework_2.ipynb\" target=\"_parent\"><img src=\"https://colab.research.google.com/assets/colab-badge.svg\" alt=\"Open In Colab\"/></a>"
      ]
    },
    {
      "cell_type": "markdown",
      "source": [
        "# Coding Homework #2\n",
        "\n",
        "**Instructions:**\n",
        "\n",
        "1. Make a *Markdown Cell* that contains the following information:\n",
        "- Your name (small header)\n",
        "- The name of this class (italicized)\n",
        "- The date (bolded)\n",
        "\n",
        "2. Make a *Code Cell* that imports <code>numpy</code> as <code>np</code>, <code>matplotlib.pyplot</code> as <code>plt</code>, <code>statistics</code> as <code>st</code>.\n",
        "\n",
        "3. Make a *Code Cell* that imports your <code>v_rest1.csv</code> and <code>v_rest2.csv</code> files as <code>numpy</code> arrays called <code>v_rest1</code> and <code>v_rest2</code> respectively. You're used to doing this with the <code>pd.read_csv</code> function for <code>pandas</code>, but can accomplish the same thing using the <code>np.loadtxt</code> function for <code>numpy</code>.\n",
        "\n",
        "4. Make a *Code Cell* that concatenates <code>v_rest1</code> and <code>v_rest2</code> into a matrix with 2 rows and 13 columns named <code>v_rest</code>.\n",
        "\n",
        "5. Make a *Code Cell* that prints the <code>size</code> of <code>v_rest</code>.\n",
        "\n",
        "6. Make a *Code Cell* that returns the first row of <code>v_rest</code>.\n",
        "\n",
        "7. Make a *Code Cell* that returns the sum of the values in the third column of <code>v_rest</code>. You can accomplish this by using <code>v_rest[].sum()</code>, with your index inside of the brackets. As an example, if I wanted to return the sum of the first row of <code>v_rest</code>, I could use <code>v_rest[0].sum()</code> to get my answer.\n",
        "\n",
        "8. Make a *Code Cell* that returns the second-to-last value in the second row of <code>v_rest</code> (use negative indexing for the column value).\n",
        "\n",
        "9. Create a *Code Cell* that makes a histogram of the values in the first row of <code>v_rest</code> (you can do this by using the <code>plt.hist()</code> function). Label your axes.\n",
        "\n",
        "10. Create a *Code Cell* that takes the mean of the values in the first row of <code>v_rest</code>, and assigns the mean to a variable called <code>v_rest_mean_1</code>. Do the same thing for the second row of <code>v_rest</code>, and assign the mean value of the second row to a variable called <code>v_rest_mean_2</code>. You can get the means by using the <code>st.mean()</code> function (remember to put what you want the mean *of* inside the parentheses of the function).\n",
        "\n",
        "11. Create a *Markdown Cell* that describes the difference in means between the two rows. Which one is bigger?\n",
        "\n",
        "12. How can we test whether the difference in means is *meaningful* (statistically significant)? When we're comparing two means, we can use a t-test (assuming the data are normally distributed). To use a t-test on our data, we will first need to import the <code>scipy</code> package. Create a new *Code Cell* that runs the following:\n",
        "\n",
        "<code>\n",
        "import scipy.stats as stats\n",
        "</code>\n",
        "\n",
        "13. Now, we can perform a t-test on the two rows of <code>v_rest</code>. To do this, create a new *Code Cell* that uses the <code>stats.ttest_ind()</code> function - for example:\n",
        "\n",
        "<code>\n",
        "stats.ttest_ind(row1, row2)\n",
        "</code>\n",
        "\n",
        "Replace <code>row1</code> and <code>row2</code> in this case with the first and second rows, respectively, of <code>v_rest</code>.\n",
        "\n",
        "14. Make a *Markdown Cell* that describes the results of your t-test. You should have <code>statistic</code> variable and a <code>pvalue</code> variable. The way to interpret your p-value is as a probability - specifically, the probability that the mean of one distribution could be found in the second distribution. Typically, results are considered to be \"statistically significant\" if the probability is lower than 5% - or 0.05. What is your p-value? Based on this p-value, do you think it is likely that the means are significantly different, or do you think it is likely that they are not?\n",
        "\n",
        "15. Make sure to add at least one line with a <code>#</code> in front of it to each *Code Cell* to describe what each cell does.\n",
        "\n",
        "16. Save a copy of this notebook to your GitHub repo with the title \"coding_homework_2.ipynb\"."
      ],
      "metadata": {
        "id": "CXEcCBSA_prs"
      }
    },
    {
      "cell_type": "markdown",
      "source": [
        "##Abby Harr\n",
        "*Neur 265*\n",
        "\n",
        "**2/24/23**\n"
      ],
      "metadata": {
        "id": "A2QiC2YhBR1u"
      }
    },
    {
      "cell_type": "code",
      "source": [
        "#import the stuff\n",
        "from matplotlib import pyplot as plt\n",
        "import numpy as np\n",
        "import statistics as st\n",
        "print('packages imported')"
      ],
      "metadata": {
        "colab": {
          "base_uri": "https://localhost:8080/"
        },
        "id": "boXDzzzSBkE6",
        "outputId": "12d944d6-2b6b-4d63-e1db-2510f5276716"
      },
      "execution_count": 1,
      "outputs": [
        {
          "output_type": "stream",
          "name": "stdout",
          "text": [
            "packages imported\n"
          ]
        }
      ]
    },
    {
      "cell_type": "code",
      "source": [
        "#import data as numpy arrays\n",
        "url1= 'https://raw.githubusercontent.com/abharr/Abby-Neur-265/main/vrest_1.csv'\n",
        "url2= 'https://raw.githubusercontent.com/abharr/Abby-Neur-265/main/vrest_2.csv'\n",
        "v_rest1 = np.loadtxt(url1)\n",
        "v_rest2 = np.loadtxt(url2)\n",
        "print(type(v_rest2))\n",
        "print(type(v_rest1))\n"
      ],
      "metadata": {
        "colab": {
          "base_uri": "https://localhost:8080/"
        },
        "id": "uwkGHqbrCCj6",
        "outputId": "7e3a1fad-3e51-4181-ccc1-cd9d9cb974ae"
      },
      "execution_count": 2,
      "outputs": [
        {
          "output_type": "stream",
          "name": "stdout",
          "text": [
            "<class 'numpy.ndarray'>\n",
            "<class 'numpy.ndarray'>\n"
          ]
        }
      ]
    },
    {
      "cell_type": "code",
      "source": [
        "#create matrix containing both datasets\n",
        "v_rest = np.array([v_rest1,v_rest2])\n"
      ],
      "metadata": {
        "id": "qr5rc7_PC4w_"
      },
      "execution_count": 3,
      "outputs": []
    },
    {
      "cell_type": "code",
      "source": [
        "#print size of v_rest\n",
        "print(v_rest.size)"
      ],
      "metadata": {
        "colab": {
          "base_uri": "https://localhost:8080/"
        },
        "id": "TW3DnxUkEFFC",
        "outputId": "598fc873-deea-4f7d-ad49-72e3d23be21c"
      },
      "execution_count": 4,
      "outputs": [
        {
          "output_type": "stream",
          "name": "stdout",
          "text": [
            "26\n"
          ]
        }
      ]
    },
    {
      "cell_type": "code",
      "source": [
        "#first row of v_rest\n",
        "print(v_rest[0])"
      ],
      "metadata": {
        "colab": {
          "base_uri": "https://localhost:8080/"
        },
        "id": "4B1nPeiBmq8E",
        "outputId": "d5602881-04e1-4ce9-be7a-c3031698ac9f"
      },
      "execution_count": 12,
      "outputs": [
        {
          "output_type": "stream",
          "name": "stdout",
          "text": [
            "[-65.55698187 -64.74186245 -69.98578771 -59.06763687 -73.25009308\n",
            " -63.82287979 -67.70947901 -67.36396848 -69.81776352 -66.49734061\n",
            " -64.00459436 -66.17677731 -69.10478306]\n"
          ]
        }
      ]
    },
    {
      "cell_type": "code",
      "source": [
        "#print sum of third colummn\n",
        "print(v_rest[:,2].sum())"
      ],
      "metadata": {
        "colab": {
          "base_uri": "https://localhost:8080/"
        },
        "id": "YN0cQZElGzHI",
        "outputId": "d7a34fe2-5926-4dfc-d440-aa5e4f627689"
      },
      "execution_count": 5,
      "outputs": [
        {
          "output_type": "stream",
          "name": "stdout",
          "text": [
            "-130.98293241\n"
          ]
        }
      ]
    },
    {
      "cell_type": "code",
      "source": [
        "#print second-to-last value of row 2\n",
        "print(v_rest[1,-2])\n",
        "\n"
      ],
      "metadata": {
        "colab": {
          "base_uri": "https://localhost:8080/"
        },
        "id": "VymoBVWpHmGj",
        "outputId": "c1ac186b-b154-42b7-8900-c05ad325d4d7"
      },
      "execution_count": 6,
      "outputs": [
        {
          "output_type": "stream",
          "name": "stdout",
          "text": [
            "-64.05911026\n"
          ]
        }
      ]
    },
    {
      "cell_type": "code",
      "source": [
        "#histogram of values from first row\n",
        "plt.hist(v_rest[0])\n",
        "plt.xlabel('resting membrane potential, mV')\n",
        "plt.ylabel('frequency')"
      ],
      "metadata": {
        "colab": {
          "base_uri": "https://localhost:8080/",
          "height": 296
        },
        "id": "_ir-5k8LK1oW",
        "outputId": "2e8f3b4f-ab9f-4840-bea0-7d917659b633"
      },
      "execution_count": 8,
      "outputs": [
        {
          "output_type": "execute_result",
          "data": {
            "text/plain": [
              "Text(0, 0.5, 'frequency')"
            ]
          },
          "metadata": {},
          "execution_count": 8
        },
        {
          "output_type": "display_data",
          "data": {
            "text/plain": [
              "<Figure size 432x288 with 1 Axes>"
            ],
            "image/png": "[encoded data removed]"
          },
          "metadata": {
            "needs_background": "light"
          }
        }
      ]
    },
    {
      "cell_type": "code",
      "source": [
        "#get means of v_rest1 and v_rest2\n",
        "v_rest_mean_1 = st.mean(v_rest[0])\n",
        "v_rest_mean_2 = st.mean(v_rest[1])\n",
        "print(v_rest_mean_1)\n",
        "print(v_rest_mean_2)\n"
      ],
      "metadata": {
        "colab": {
          "base_uri": "https://localhost:8080/"
        },
        "id": "BhTOdMVxPxZD",
        "outputId": "dd2ed650-6694-4ec2-f706-d8587098da40"
      },
      "execution_count": 14,
      "outputs": [
        {
          "output_type": "stream",
          "name": "stdout",
          "text": [
            "-66.69999600923077\n",
            "-66.76456181538461\n"
          ]
        }
      ]
    },
    {
      "cell_type": "markdown",
      "source": [
        "The means of the two rows are very close, both around -67 mV. There doesn't seem to be a substantial difference between the resting potentials of the two types of cells, but row 2 is slightly more negative."
      ],
      "metadata": {
        "id": "djU5-COXQibN"
      }
    },
    {
      "cell_type": "code",
      "source": [
        "#import scipy.stats package\n",
        "import scipy.stats as stats\n",
        "\n",
        "print('Package imported!')"
      ],
      "metadata": {
        "id": "RVMznxaNWNGT",
        "colab": {
          "base_uri": "https://localhost:8080/"
        },
        "outputId": "323377b1-1af0-4547-b090-e6c8bf607123"
      },
      "execution_count": 10,
      "outputs": [
        {
          "output_type": "stream",
          "name": "stdout",
          "text": [
            "Package imported!\n"
          ]
        }
      ]
    },
    {
      "cell_type": "code",
      "source": [
        "#perform t-test\n",
        "stats.ttest_ind(v_rest[0],v_rest[1])"
      ],
      "metadata": {
        "colab": {
          "base_uri": "https://localhost:8080/"
        },
        "id": "ybDK71ht8mWP",
        "outputId": "95e367e2-416b-41c0-f8ec-20e3b2b75096"
      },
      "execution_count": 11,
      "outputs": [
        {
          "output_type": "execute_result",
          "data": {
            "text/plain": [
              "Ttest_indResult(statistic=0.037752833313575075, pvalue=0.9701970285645174)"
            ]
          },
          "metadata": {},
          "execution_count": 11
        }
      ]
    },
    {
      "cell_type": "markdown",
      "source": [
        "Based on the p-value, it is highly unlikely that the means of the two rows are significantly different. The p value is 0.97, meaning that it is 97% likely that the slight difference between the two values is due to chance factors only."
      ],
      "metadata": {
        "id": "hyF9xoXXlxi3"
      }
    }
  ]
}