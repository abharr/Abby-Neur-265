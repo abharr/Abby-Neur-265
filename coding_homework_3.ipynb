{
  "nbformat": 4,
  "nbformat_minor": 0,
  "metadata": {
    "colab": {
      "provenance": [],
      "include_colab_link": true
    },
    "kernelspec": {
      "name": "python3",
      "display_name": "Python 3"
    },
    "language_info": {
      "name": "python"
    }
  },
  "cells": [
    {
      "cell_type": "markdown",
      "metadata": {
        "id": "view-in-github",
        "colab_type": "text"
      },
      "source": [
        "<a href=\"https://colab.research.google.com/github/abharr/Abby-Neur-265/blob/main/coding_homework_3.ipynb\" target=\"_parent\"><img src=\"https://colab.research.google.com/assets/colab-badge.svg\" alt=\"Open In Colab\"/></a>"
      ]
    },
    {
      "cell_type": "markdown",
      "source": [
        "# Coding Homework #3\n",
        "\n",
        "**Instructions**\n",
        "\n",
        "1. Make a *Markdown Cell* that contains the following information:\n",
        "- Your name (small header)\n",
        "- The name of this class (italicized)\n",
        "- The date (bolded)\n",
        "\n",
        "2. Make a *Code Cell* that imports <code>numpy</code> as <code>np</code>, <code>matplotlib.pyplot</code> as <code>plt</code>, and <code>scipy.stats</code> as <code>stats</code>.\n",
        "\n",
        "3. Make a *Code Cell* that imports your <code>v_rest1.csv</code> and <code>v_rest2.csv</code> variables as <code>numpy</code> arrays called <code>v_rest1</code> and <code>v_rest2</code> respectively.\n",
        "\n",
        "4. Make a *Code Cell* that does the following:\n",
        "  \n",
        "  a. Finds the means of <code>v_rest1</code> and <code>v_rest2</code>.\n",
        "  \n",
        "  b. Performs a t-test to test the null hypothesis that the means of <code>v_rest1</code> and <code>v_rest2</code> come from different distributions.\n",
        "\n",
        "  c. Plots a histogram of <code>v_rest1</code> in one subplot, and a histogram of <code>v_rest2</code> in another subplot if the p-value of the t-test is > 0.05. You can make two subplots using the syntax <code>fig, ax = plt.subplots(1,1)</code>.\n",
        "\n",
        "  d. Labels the y-axis and x-axis of your histograms (recall that <code>ax.ylabel</code> and <code>ax.xlabel</code> are the methods that let you accomplish this).\n",
        "\n",
        "5. Make a *Code Cell* that defines a function called <code>vrestHist()</code>. This function should execute the code in step 4 when called. Remember to tell python that you want the function to show your plots when you call it!\n",
        "\n",
        "6. Make a *Code Cell* that calls <code>vrestHist()</code>.\n",
        "\n",
        "7. Make a *Code Cell* that does the following:\n",
        "\n",
        "    a. Loops through each column of <code>v_rest1</code> and <code>v_rest2</code> and makes a scatter plot with <code>v_rest1</code> on the x-axis and <code>v_rest2</code> on the y-axis. \n",
        "\n",
        "    b. Each iteration of your loop should plot a different point on the scatter plot. At the end of your loop, you should have only one scatter plot with number of data points equal to the length of <code>v_rest1</code> and <code>v_rest2</code>.\n",
        "\n",
        "    c. Your loop should plot a <font color = 'red'>red</font> dot if *both* values in <code>v_rest1</code> and <code>v_rest2</code> are greater than -60, a <font color = 'green'>green</font> dot if values in <code>v_rest1</code> are greater than -60, but values in <code>v_rest2</code> are less than -60, and a <font color = 'blue'>blue</font> dot if *both* values in <code>v_rest1</code> and <code>v_rest2</code> are less than -60. \n",
        "\n",
        "    d. Labels your y-axis and your x-axis (this code should be outside of your loop).\n",
        "\n",
        "8. Make a *Code Cell* that defines a function called <code>vrestScatter()</code>. This function should execute the code in step 7 when called. Remember to tell python that you want the function to show your plot when you call it!\n",
        "\n",
        "9. Save a copy of this notebook to your GitHub repo with the title \"coding_homework_3.ipynb\"."
      ],
      "metadata": {
        "id": "zbzMCJlMN3ph"
      }
    },
    {
      "cell_type": "markdown",
      "source": [
        "##Abby Harr\n",
        "\n",
        "*Neur 265*\n",
        "\n",
        "**3/3/2023**"
      ],
      "metadata": {
        "id": "IeaOPxXmQ8AD"
      }
    },
    {
      "cell_type": "code",
      "source": [
        "#import needed packages\n",
        "import numpy as np\n",
        "import matplotlib.pyplot as plt\n",
        "import scipy.stats as stats"
      ],
      "metadata": {
        "id": "y-dXpWfaQ7Uf"
      },
      "execution_count": 1,
      "outputs": []
    },
    {
      "cell_type": "code",
      "source": [
        "#import data as numpy arrays\n",
        "v_rest1 = np.loadtxt('https://raw.githubusercontent.com/abharr/Abby-Neur-265/main/vrest_1.csv')\n",
        "v_rest2 = np.loadtxt('https://raw.githubusercontent.com/abharr/Abby-Neur-265/main/vrest_2.csv')\n"
      ],
      "metadata": {
        "id": "jF-Dp0LYRLc7"
      },
      "execution_count": 2,
      "outputs": []
    },
    {
      "cell_type": "code",
      "source": [
        "#find means and perform t-test to compare means\n",
        "print(np.mean(v_rest1))\n",
        "print(np.mean(v_rest2))\n",
        "stc, pval = stats.ttest_ind(v_rest1,v_rest2)\n",
        "print('p is equal to', pval)\n",
        "\n",
        "#make histograms of data\n",
        "fig, ax = plt.subplots(1,2)\n",
        "ax[0].set_xlabel('Resting Membrane Potential')\n",
        "ax[0].set_ylabel('Frequency')\n",
        "ax[0].hist(v_rest1,color='darksalmon')\n",
        "if pval>0.05:\n",
        "  ax[1].hist(v_rest2)\n",
        "  ax[1].set_xlabel('Resting Membrane Potential')"
      ],
      "metadata": {
        "colab": {
          "base_uri": "https://localhost:8080/",
          "height": 331
        },
        "id": "yLiCb_CSRoVa",
        "outputId": "02c4f7f5-5acd-4d99-ba76-da5c83dc048b"
      },
      "execution_count": 3,
      "outputs": [
        {
          "output_type": "stream",
          "name": "stdout",
          "text": [
            "-66.69999600923077\n",
            "-66.76456181538462\n",
            "p is equal to 0.9701970285645174\n"
          ]
        },
        {
          "output_type": "display_data",
          "data": {
            "text/plain": [
              "<Figure size 432x288 with 2 Axes>"
            ],
            "image/png": "[encoded data removed]"
          },
          "metadata": {
            "needs_background": "light"
          }
        }
      ]
    },
    {
      "cell_type": "code",
      "source": [
        "#define function vresthist\n",
        "def vrestHist():\n",
        "  print(np.mean(v_rest1))\n",
        "  print(np.mean(v_rest2))\n",
        "  stc, pval = stats.ttest_ind(v_rest1,v_rest2)\n",
        "  print('p is equal to', pval)\n",
        "  fig, ax = plt.subplots(1,2)\n",
        "  ax[0].set_xlabel('Resting Membrane Potential')\n",
        "  ax[0].set_ylabel('Frequency')\n",
        "  ax[0].hist(v_rest1,color='darksalmon')\n",
        "  if pval>0.05:\n",
        "    ax[1].hist(v_rest2)\n",
        "    ax[1].set_xlabel('Resting Membrane Potential')\n",
        "  "
      ],
      "metadata": {
        "id": "oEZn1ML5SLLq"
      },
      "execution_count": 6,
      "outputs": []
    },
    {
      "cell_type": "code",
      "source": [
        "vrestHist()"
      ],
      "metadata": {
        "colab": {
          "base_uri": "https://localhost:8080/",
          "height": 331
        },
        "id": "WibyPuWrkzYb",
        "outputId": "41f29a94-72f6-4b1d-ee34-7d317597dad2"
      },
      "execution_count": 7,
      "outputs": [
        {
          "output_type": "stream",
          "name": "stdout",
          "text": [
            "-66.69999600923077\n",
            "-66.76456181538462\n",
            "p is equal to 0.9701970285645174\n"
          ]
        },
        {
          "output_type": "display_data",
          "data": {
            "text/plain": [
              "<Figure size 432x288 with 2 Axes>"
            ],
            "image/png": "[encoded data removed]"
          },
          "metadata": {
            "needs_background": "light"
          }
        }
      ]
    },
    {
      "cell_type": "code",
      "source": [
        "#make loop that creates scatter plot of v_rest1 and v_rest2\n",
        "data = np.array([v_rest1,v_rest2])\n",
        "data_length = range(len(data[0]))\n",
        "for i in data_length:\n",
        "  if data[0,i] > -60 and data[1,i] > -60:\n",
        "    plt.scatter(data[0,i],data[1,i],color='red')\n",
        "  elif data[0,i] > -60 and data[1,i] < -60:\n",
        "    plt.scatter(data[0,i],data[1,i],color='green')\n",
        "  elif data[0,i] < -60 and data[1,i] < -60:\n",
        "    plt.scatter(data[0,i],data[1,i],color='blue')\n",
        "  #one data point does not match any of the above criteria and is excluded without the following else statement\n",
        "  else:\n",
        "    plt.scatter(data[0,i],data[1,i],color='orange')\n",
        "plt.xlabel('Resting Potential-1st cell set')\n",
        "plt.ylabel('Resting Potential-2nd cell set')"
      ],
      "metadata": {
        "colab": {
          "base_uri": "https://localhost:8080/",
          "height": 299
        },
        "id": "2nfup9fdleW2",
        "outputId": "ea4beb63-85f2-41a0-df1a-324186039c33"
      },
      "execution_count": null,
      "outputs": [
        {
          "output_type": "execute_result",
          "data": {
            "text/plain": [
              "Text(0, 0.5, 'Resting Potential-2nd cell set')"
            ]
          },
          "metadata": {},
          "execution_count": 15
        },
        {
          "output_type": "display_data",
          "data": {
            "text/plain": [
              "<Figure size 432x288 with 1 Axes>"
            ],
            "image/png": "[encoded data removed]"
          },
          "metadata": {
            "needs_background": "light"
          }
        }
      ]
    },
    {
      "cell_type": "code",
      "source": [
        "#define function vrestScatter()\n",
        "\n",
        "def vrestScatter():\n",
        "  data = np.array([v_rest1,v_rest2])\n",
        "  data_length = range(len(data[1]))\n",
        "  for i in data_length:\n",
        "    if data[0,i] > -60 and data[1,i] > -60:\n",
        "      plt.scatter(data[0,i],data[1,i],color='red')\n",
        "    elif data[0,i] > -60 and data[1,i] < -60:\n",
        "      plt.scatter(data[0,i],data[1,i],color='green')\n",
        "    elif data[0,i] < -60 and data[1,i] < -60:\n",
        "      plt.scatter(data[0,i],data[1,i],color='blue')\n",
        "    else:\n",
        "      plt.scatter(data[0,i],data[1,i],color='orange')\n",
        "  plt.xlabel('Resting Potential-1st cell set')\n",
        "  plt.ylabel('Resting Potential-2nd cell set')\n"
      ],
      "metadata": {
        "id": "uXFRQ1tPyBFe"
      },
      "execution_count": 14,
      "outputs": []
    },
    {
      "cell_type": "code",
      "source": [
        "#call vrestScatter()\n",
        "vrestScatter()"
      ],
      "metadata": {
        "colab": {
          "base_uri": "https://localhost:8080/",
          "height": 282
        },
        "id": "niLLhAggyUUc",
        "outputId": "4bf08ac3-e405-419d-dd3d-3b609ce89623"
      },
      "execution_count": 15,
      "outputs": [
        {
          "output_type": "display_data",
          "data": {
            "text/plain": [
              "<Figure size 432x288 with 1 Axes>"
            ],
            "image/png": "[encoded data removed]"
          },
          "metadata": {
            "needs_background": "light"
          }
        }
      ]
    }
  ]
}