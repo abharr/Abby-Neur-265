{
  "nbformat": 4,
  "nbformat_minor": 0,
  "metadata": {
    "colab": {
      "provenance": [],
      "include_colab_link": true
    },
    "kernelspec": {
      "name": "python3",
      "display_name": "Python 3"
    },
    "language_info": {
      "name": "python"
    }
  },
  "cells": [
    {
      "cell_type": "markdown",
      "metadata": {
        "id": "view-in-github",
        "colab_type": "text"
      },
      "source": [
        "<a href=\"https://colab.research.google.com/github/abharr/Abby-Neur-265/blob/main/Copy_of_02_01_23.ipynb\" target=\"_parent\"><img src=\"https://colab.research.google.com/assets/colab-badge.svg\" alt=\"Open In Colab\"/></a>"
      ]
    },
    {
      "cell_type": "markdown",
      "source": [
        "# Programming Fundamentals II: Data Structures\n",
        "\n",
        "In this notebook, we'll explore different types of data structures that Python can use to store information, namely **lists and tuples.**"
      ],
      "metadata": {
        "id": "FZACfZEVgB1H"
      }
    },
    {
      "cell_type": "markdown",
      "source": [
        "## At the end of this notebook, you'll be able to:\n",
        "\n",
        "* Compare & contrast the types of structures that Python uses to store data points\n",
        "* Recognize & create lists and tuples in Python\n",
        "* Index, slice, cast, and mutate lists\n",
        "* Understand the implications of mutability and object-oriented programming"
      ],
      "metadata": {
        "id": "KUaqfFghgH_c"
      }
    },
    {
      "cell_type": "markdown",
      "source": [
        "## A _list_ is a mutable collection of ordered items, that can be of mixed type.\n",
        "\n",
        "**Mutable** means that individual items in the object can be changed. Lists are mutable. Tuples and strings are not -- they're **immutable**.\n",
        "\n",
        "Lists are created using square brackets `[ ]`, and individual elements are separated by commas."
      ],
      "metadata": {
        "id": "vHS5CVFlgTpa"
      }
    },
    {
      "cell_type": "code",
      "source": [
        "# Create a list of 5 fruits\n",
        "fruits = ['kiwi','banana','dragonfruit','pear','cantaloupe']\n",
        "fruits\n"
      ],
      "metadata": {
        "id": "Q4RZ9szNgeeM",
        "colab": {
          "base_uri": "https://localhost:8080/"
        },
        "outputId": "a92a7aee-32b8-4fdd-ef3c-12bab164b120"
      },
      "execution_count": 6,
      "outputs": [
        {
          "output_type": "execute_result",
          "data": {
            "text/plain": [
              "['kiwi', 'banana', 'dragonfruit', 'pear', 'cantaloupe']"
            ]
          },
          "metadata": {},
          "execution_count": 6
        }
      ]
    },
    {
      "cell_type": "markdown",
      "source": [
        "### Useful list functions\n",
        "\n",
        "- Check the length of your list by using `len(my_list)`\n",
        "- Use `my_list.append()` to add elements to a list\n",
        "- Remove elements by value by using `my_list.remove('value')`\n",
        "- Sort by using `my_list.sort()`"
      ],
      "metadata": {
        "id": "BUxTR2jRgsg8"
      }
    },
    {
      "cell_type": "code",
      "source": [
        "# Try different list functions\n",
        "fruits.sort()\n",
        "fruits\n",
        "\n",
        "\n",
        "# How does the sort function sort your list?"
      ],
      "metadata": {
        "id": "pznW52D1hDto",
        "colab": {
          "base_uri": "https://localhost:8080/"
        },
        "outputId": "0ce01021-3f27-4c08-8e0f-6d80841bf307"
      },
      "execution_count": 17,
      "outputs": [
        {
          "output_type": "execute_result",
          "data": {
            "text/plain": [
              "['banana', 'cantaloupe', 'dragonfruit', 'grape', 'kiwi', 'pear']"
            ]
          },
          "metadata": {},
          "execution_count": 17
        }
      ]
    },
    {
      "cell_type": "code",
      "source": [
        "# Try the following code:\n",
        "\n",
        "fruits.sort(reverse= True)\n",
        "fruits\n",
        "\n",
        "# How is your list sorted now?"
      ],
      "metadata": {
        "id": "NdNX0kkUh0tE",
        "colab": {
          "base_uri": "https://localhost:8080/"
        },
        "outputId": "28d44c53-5dbf-4e6c-b4fa-56194b2df609"
      },
      "execution_count": 22,
      "outputs": [
        {
          "output_type": "execute_result",
          "data": {
            "text/plain": [
              "['pear', 'kiwi', 'grape', 'dragonfruit', 'cantaloupe', 'banana']"
            ]
          },
          "metadata": {},
          "execution_count": 22
        }
      ]
    },
    {
      "cell_type": "markdown",
      "source": [
        "### List indexing & slicing\n",
        "\n",
        "**Indexing** refers to selecting an item from within a collection (e.g., lists, tuples, and strings). Indexing is done by placing the **index number** in square brackets, directly after the list variable.\n",
        "\n",
        "For example, if `my_list = [1,3,5]`, we can get the second value using `my_list[1]`. (Python starts indexing at zero!)"
      ],
      "metadata": {
        "id": "_4nggv26hG2o"
      }
    },
    {
      "cell_type": "code",
      "source": [
        "# Output the first value of your 'fruits' list\n",
        "fruits.sort(reverse= True)\n",
        "print(fruits[0])\n",
        "print(fruits[3])\n",
        "\n",
        "# Output the fourth value of your 'fruits' list\n",
        "fruits.sort()\n",
        "print(fruits[-1])\n",
        "print(fruits[-4])"
      ],
      "metadata": {
        "id": "Dcdev3yOhSs6",
        "colab": {
          "base_uri": "https://localhost:8080/"
        },
        "outputId": "617b725f-7516-4d75-bf8e-e05f7286539c"
      },
      "execution_count": 32,
      "outputs": [
        {
          "output_type": "stream",
          "name": "stdout",
          "text": [
            "pear\n",
            "dragonfruit\n",
            "pear\n",
            "dragonfruit\n"
          ]
        }
      ]
    },
    {
      "cell_type": "markdown",
      "source": [
        "You can also index in the reverse direction - the final value in a list is `-1`, with the order of numbers decreasing in the reverse direction (for example, the second-to-last value in a list is `-2`, the value before that is `-3`, etc.)"
      ],
      "metadata": {
        "id": "GdZbY4K7i-6c"
      }
    },
    {
      "cell_type": "markdown",
      "source": [
        "### If we want multiple items, we can **slice** the list.\n",
        "\n",
        "There are a few ways to slice:\n",
        "\n",
        "1. We can **slice** a part of a list using the syntax `[start:stop]`, which extracts characters between index start (0) and stop (-1).\n",
        "\n",
        "**Notes**\n",
        "\n",
        "- `start` is __included__ then every element __until__ `stop` is included.\n",
        "- Negative values count backwards through the list."
      ],
      "metadata": {
        "id": "uQTKSmfci2IF"
      }
    },
    {
      "cell_type": "markdown",
      "source": [
        "2. If we omit either (or both) of start or stop from `[start:stop]`, the default is the beginning and the end of the string, respectively, e.g. `[:3]`\n",
        "\n",
        "3. We can also define the step size (instead of default 1) using the syntax `[start:stop:step]`"
      ],
      "metadata": {
        "id": "PQ5P5sp5j7Er"
      }
    },
    {
      "cell_type": "markdown",
      "source": [
        "<b>Task:</b> For our list of fruits, create three different slices, and save them as different variables:\n",
        "\n",
        "1. A slice of the first two fruits.\n",
        "2. A slice of the middle three fruits.\n",
        "3. A slice of the last fruit."
      ],
      "metadata": {
        "id": "mrTase5okPlB"
      }
    },
    {
      "cell_type": "code",
      "source": [
        "# Your code here!\n",
        "print(fruits)\n",
        "fruits1=fruits[0:2]\n",
        "fruits2=fruits[1:4]\n",
        "fruits3=fruits[-1]\n",
        "print(fruits1)\n",
        "print(fruits2)\n",
        "print(fruits3)\n",
        "\n",
        "fruits4=fruits[0:5:2]\n",
        "print(fruits4)\n",
        "\n",
        "\n"
      ],
      "metadata": {
        "id": "jahAUklYkarf",
        "colab": {
          "base_uri": "https://localhost:8080/"
        },
        "outputId": "94cfe300-e999-4c8b-940c-76a455b85876"
      },
      "execution_count": 43,
      "outputs": [
        {
          "output_type": "stream",
          "name": "stdout",
          "text": [
            "['banana', 'cantaloupe', 'dragonfruit', 'grape', 'kiwi', 'pear']\n",
            "['banana', 'cantaloupe']\n",
            "['cantaloupe', 'dragonfruit', 'grape']\n",
            "pear\n",
            "['banana', 'dragonfruit', 'kiwi']\n"
          ]
        }
      ]
    },
    {
      "cell_type": "markdown",
      "source": [
        "### Checking length\n",
        "\n",
        "We can use the function `len( )` to check the length of lists.\n",
        "\n",
        "**Note**: We can also use this to get the number of characters in a string!"
      ],
      "metadata": {
        "id": "cZ8A-U-okebM"
      }
    },
    {
      "cell_type": "code",
      "source": [
        "# Check the length of your 'fruits' list!\n",
        "print(len(fruits[-1]))\n",
        "print(len(fruits))"
      ],
      "metadata": {
        "id": "rWbmMFvukmsZ",
        "colab": {
          "base_uri": "https://localhost:8080/"
        },
        "outputId": "923185a8-c039-4917-a8f2-d6585d9786d9"
      },
      "execution_count": 60,
      "outputs": [
        {
          "output_type": "stream",
          "name": "stdout",
          "text": [
            "4\n",
            "6\n"
          ]
        }
      ]
    },
    {
      "cell_type": "markdown",
      "source": [
        "### Checking membership\n",
        "\n",
        "We can use `in` to see if an item exists in a list. The `in` operator checks whether an element is present in a collection, and can be negated with `not` (e.g., `value not in list`)."
      ],
      "metadata": {
        "id": "PJIU8K26ktF-"
      }
    },
    {
      "cell_type": "code",
      "source": [
        "# Is orange a fruit in your list?\n",
        "\n",
        "'orange' in fruits\n",
        "\n",
        "\n"
      ],
      "metadata": {
        "id": "P-rlqkzglI_7",
        "colab": {
          "base_uri": "https://localhost:8080/"
        },
        "outputId": "27b949f7-1835-42c3-e502-5942aa826ec1"
      },
      "execution_count": 51,
      "outputs": [
        {
          "output_type": "execute_result",
          "data": {
            "text/plain": [
              "False"
            ]
          },
          "metadata": {},
          "execution_count": 51
        }
      ]
    },
    {
      "cell_type": "code",
      "source": [
        "# Make some code to see if 'apple' is *not* included in your list\n",
        "'apple' in fruits or 'orange' not in fruits"
      ],
      "metadata": {
        "id": "ya-CIy50m1l_",
        "colab": {
          "base_uri": "https://localhost:8080/"
        },
        "outputId": "c0e043f3-36e8-4f34-8f7e-17f7b12b7c1d"
      },
      "execution_count": 76,
      "outputs": [
        {
          "output_type": "execute_result",
          "data": {
            "text/plain": [
              "True"
            ]
          },
          "metadata": {},
          "execution_count": 76
        }
      ]
    },
    {
      "cell_type": "markdown",
      "source": [
        "### Mutating lists\n",
        "\n",
        "After definition, we can update members of our list _because lists are mutable!_\n",
        "\n",
        "An example of this is below:"
      ],
      "metadata": {
        "id": "P5IQE1Pkn0kQ"
      }
    },
    {
      "cell_type": "code",
      "source": [
        "# Let's replace the first item in our fruits list with 'coconut'\n",
        "\n",
        "fruits[0] = 'coconut'\n",
        "print(fruits)"
      ],
      "metadata": {
        "id": "BPl_zKTboV4_",
        "colab": {
          "base_uri": "https://localhost:8080/"
        },
        "outputId": "f8389658-2b38-4233-adbb-43dbe6e4f910"
      },
      "execution_count": 78,
      "outputs": [
        {
          "output_type": "stream",
          "name": "stdout",
          "text": [
            "['coconut', 'cantaloupe', 'dragonfruit', 'grape', 'kiwi', 'pear']\n"
          ]
        }
      ]
    },
    {
      "cell_type": "markdown",
      "source": [
        "<b>Task:</b> Replace the last item in your `fruits` list with 'gooseberry'"
      ],
      "metadata": {
        "id": "sTthRjSxod1Q"
      }
    },
    {
      "cell_type": "code",
      "source": [
        "# Your code here\n",
        "fruits[-1] = 'gooseberry'\n",
        "print(fruits)"
      ],
      "metadata": {
        "id": "gVI_xYt5om1t",
        "colab": {
          "base_uri": "https://localhost:8080/"
        },
        "outputId": "84204ff4-170d-4cdd-a529-e7b67df1cb8c"
      },
      "execution_count": 79,
      "outputs": [
        {
          "output_type": "stream",
          "name": "stdout",
          "text": [
            "['coconut', 'cantaloupe', 'dragonfruit', 'grape', 'kiwi', 'gooseberry']\n"
          ]
        }
      ]
    },
    {
      "cell_type": "markdown",
      "source": [
        "### Creating lists of lists\n",
        "\n",
        "Sometimes, it's useful to create lists of lists. Often, if we import big datasets as lists, this is how it will be organized."
      ],
      "metadata": {
        "id": "mhyxAl4Qk3SB"
      }
    },
    {
      "cell_type": "code",
      "source": [
        "gene_1 = ['gene1',0.48,0.55]\n",
        "gene_2 = ['gene2',0.38,0.85]\n",
        "gene_3 = ['gene3',0.21,0.81]\n",
        "all_genes = [gene_1, gene_2, gene_3]\n",
        "\n",
        "# We can use this syntax to get a specific value\n",
        "print(all_genes[0][-1])"
      ],
      "metadata": {
        "id": "1NlVKjLGnRWC",
        "colab": {
          "base_uri": "https://localhost:8080/"
        },
        "outputId": "4125dc00-1620-4981-ce45-41f73066677d"
      },
      "execution_count": 80,
      "outputs": [
        {
          "output_type": "stream",
          "name": "stdout",
          "text": [
            "0.55\n"
          ]
        }
      ]
    },
    {
      "cell_type": "markdown",
      "source": [
        "## A _tuple_ is an **immutable** collection of ordered items, that can be of mixed type.\n",
        "\n",
        "* Tuples are created using parentheses.\n",
        "* Indexing works similar to lists."
      ],
      "metadata": {
        "id": "XWuaK7JYpBFW"
      }
    },
    {
      "cell_type": "code",
      "source": [
        "# Define a tuple\n",
        "tup = (2, 'b', False)\n",
        "tup[1]\n"
      ],
      "metadata": {
        "id": "EhEIptUBpFJz",
        "colab": {
          "base_uri": "https://localhost:8080/",
          "height": 35
        },
        "outputId": "7caa392b-dcd0-48e7-e1e6-204a6804ed2f"
      },
      "execution_count": 83,
      "outputs": [
        {
          "output_type": "execute_result",
          "data": {
            "text/plain": [
              "'b'"
            ],
            "application/vnd.google.colaboratory.intrinsic+json": {
              "type": "string"
            }
          },
          "metadata": {},
          "execution_count": 83
        }
      ]
    },
    {
      "cell_type": "code",
      "source": [],
      "metadata": {
        "id": "g-NFxwd55AG2"
      },
      "execution_count": null,
      "outputs": []
    }
  ]
}